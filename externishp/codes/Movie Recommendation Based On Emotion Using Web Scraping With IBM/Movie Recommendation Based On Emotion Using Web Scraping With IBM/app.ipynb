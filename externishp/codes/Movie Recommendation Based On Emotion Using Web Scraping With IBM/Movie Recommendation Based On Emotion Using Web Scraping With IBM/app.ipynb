{
 "cells": [
  {
   "cell_type": "code",
   "execution_count": 1,
   "id": "abc5aae5",
   "metadata": {},
   "outputs": [
    {
     "name": "stdout",
     "output_type": "stream",
     "text": [
      "Requirement already satisfied: flask in c:\\users\\dell\\appdata\\local\\packages\\pythonsoftwarefoundation.python.3.10_qbz5n2kfra8p0\\localcache\\local-packages\\python310\\site-packages (2.2.2)\n",
      "Requirement already satisfied: Jinja2>=3.0 in c:\\users\\dell\\appdata\\local\\packages\\pythonsoftwarefoundation.python.3.10_qbz5n2kfra8p0\\localcache\\local-packages\\python310\\site-packages (from flask) (3.1.2)\n",
      "Requirement already satisfied: Werkzeug>=2.2.2 in c:\\users\\dell\\appdata\\local\\packages\\pythonsoftwarefoundation.python.3.10_qbz5n2kfra8p0\\localcache\\local-packages\\python310\\site-packages (from flask) (2.2.2)\n",
      "Requirement already satisfied: click>=8.0 in c:\\users\\dell\\appdata\\local\\packages\\pythonsoftwarefoundation.python.3.10_qbz5n2kfra8p0\\localcache\\local-packages\\python310\\site-packages (from flask) (8.1.3)\n",
      "Requirement already satisfied: itsdangerous>=2.0 in c:\\users\\dell\\appdata\\local\\packages\\pythonsoftwarefoundation.python.3.10_qbz5n2kfra8p0\\localcache\\local-packages\\python310\\site-packages (from flask) (2.1.2)\n",
      "Requirement already satisfied: colorama in c:\\users\\dell\\appdata\\local\\packages\\pythonsoftwarefoundation.python.3.10_qbz5n2kfra8p0\\localcache\\local-packages\\python310\\site-packages (from click>=8.0->flask) (0.4.5)\n",
      "Requirement already satisfied: MarkupSafe>=2.0 in c:\\users\\dell\\appdata\\local\\packages\\pythonsoftwarefoundation.python.3.10_qbz5n2kfra8p0\\localcache\\local-packages\\python310\\site-packages (from Jinja2>=3.0->flask) (2.1.1)\n",
      "Note: you may need to restart the kernel to use updated packages.\n"
     ]
    },
    {
     "name": "stderr",
     "output_type": "stream",
     "text": [
      "\n",
      "[notice] A new release of pip is available: 23.0.1 -> 23.2.1\n",
      "[notice] To update, run: C:\\Users\\DELL\\AppData\\Local\\Microsoft\\WindowsApps\\PythonSoftwareFoundation.Python.3.10_qbz5n2kfra8p0\\python.exe -m pip install --upgrade pip\n"
     ]
    }
   ],
   "source": [
    "pip install flask\n"
   ]
  },
  {
   "cell_type": "code",
   "execution_count": 2,
   "id": "3d666a81",
   "metadata": {},
   "outputs": [
    {
     "name": "stdout",
     "output_type": "stream",
     "text": [
      "Requirement already satisfied: gevent in c:\\users\\dell\\appdata\\local\\packages\\pythonsoftwarefoundation.python.3.10_qbz5n2kfra8p0\\localcache\\local-packages\\python310\\site-packages (23.7.0)\n",
      "Requirement already satisfied: zope.event in c:\\users\\dell\\appdata\\local\\packages\\pythonsoftwarefoundation.python.3.10_qbz5n2kfra8p0\\localcache\\local-packages\\python310\\site-packages (from gevent) (5.0)\n",
      "Requirement already satisfied: greenlet>=2.0.0 in c:\\users\\dell\\appdata\\local\\packages\\pythonsoftwarefoundation.python.3.10_qbz5n2kfra8p0\\localcache\\local-packages\\python310\\site-packages (from gevent) (2.0.2)\n",
      "Requirement already satisfied: zope.interface in c:\\users\\dell\\appdata\\local\\packages\\pythonsoftwarefoundation.python.3.10_qbz5n2kfra8p0\\localcache\\local-packages\\python310\\site-packages (from gevent) (6.0)\n",
      "Requirement already satisfied: cffi>=1.12.2 in c:\\users\\dell\\appdata\\local\\packages\\pythonsoftwarefoundation.python.3.10_qbz5n2kfra8p0\\localcache\\local-packages\\python310\\site-packages (from gevent) (1.15.1)\n",
      "Requirement already satisfied: pycparser in c:\\users\\dell\\appdata\\local\\packages\\pythonsoftwarefoundation.python.3.10_qbz5n2kfra8p0\\localcache\\local-packages\\python310\\site-packages (from cffi>=1.12.2->gevent) (2.21)\n",
      "Requirement already satisfied: setuptools in c:\\program files\\windowsapps\\pythonsoftwarefoundation.python.3.10_3.10.3056.0_x64__qbz5n2kfra8p0\\lib\\site-packages (from zope.event->gevent) (65.5.0)\n",
      "Note: you may need to restart the kernel to use updated packages.\n"
     ]
    },
    {
     "name": "stderr",
     "output_type": "stream",
     "text": [
      "\n",
      "[notice] A new release of pip is available: 23.0.1 -> 23.2.1\n",
      "[notice] To update, run: C:\\Users\\DELL\\AppData\\Local\\Microsoft\\WindowsApps\\PythonSoftwareFoundation.Python.3.10_qbz5n2kfra8p0\\python.exe -m pip install --upgrade pip\n"
     ]
    }
   ],
   "source": [
    "pip install gevent"
   ]
  },
  {
   "cell_type": "code",
   "execution_count": 3,
   "id": "48c4f420",
   "metadata": {},
   "outputs": [
    {
     "name": "stdout",
     "output_type": "stream",
     "text": [
      "Requirement already satisfied: lxml in c:\\users\\dell\\appdata\\local\\packages\\pythonsoftwarefoundation.python.3.10_qbz5n2kfra8p0\\localcache\\local-packages\\python310\\site-packages (4.9.3)Note: you may need to restart the kernel to use updated packages.\n"
     ]
    },
    {
     "name": "stderr",
     "output_type": "stream",
     "text": [
      "\n",
      "[notice] A new release of pip is available: 23.0.1 -> 23.2.1\n",
      "[notice] To update, run: C:\\Users\\DELL\\AppData\\Local\\Microsoft\\WindowsApps\\PythonSoftwareFoundation.Python.3.10_qbz5n2kfra8p0\\python.exe -m pip install --upgrade pip\n"
     ]
    },
    {
     "name": "stdout",
     "output_type": "stream",
     "text": [
      "\n"
     ]
    }
   ],
   "source": [
    "pip install lxml"
   ]
  },
  {
   "cell_type": "code",
   "execution_count": 4,
   "id": "0e626457",
   "metadata": {},
   "outputs": [],
   "source": [
    "from flask import Flask, request, render_template\n",
    "import numpy as np\n",
    "import re\n",
    "import os\n",
    "from gevent.pywsgi import WSGIServer\n",
    "import requests as HTTP\n",
    "from bs4 import BeautifulSoup as SOUP"
   ]
  },
  {
   "cell_type": "code",
   "execution_count": 5,
   "id": "c9ef833a",
   "metadata": {},
   "outputs": [
    {
     "name": "stdout",
     "output_type": "stream",
     "text": [
      " * Serving Flask app '__main__'\n",
      " * Debug mode: off\n"
     ]
    },
    {
     "name": "stderr",
     "output_type": "stream",
     "text": [
      "WARNING: This is a development server. Do not use it in a production deployment. Use a production WSGI server instead.\n",
      " * Running on http://127.0.0.1:5000\n",
      "Press CTRL+C to quit\n",
      "127.0.0.1 - - [24/Jul/2023 22:41:14] \"GET / HTTP/1.1\" 200 -\n",
      "127.0.0.1 - - [24/Jul/2023 22:41:15] \"GET /images/1.jpg HTTP/1.1\" 404 -\n",
      "127.0.0.1 - - [24/Jul/2023 22:41:15] \"GET /static/img/angry.jpg HTTP/1.1\" 304 -\n",
      "127.0.0.1 - - [24/Jul/2023 22:41:15] \"GET /static/img/disgust.png HTTP/1.1\" 304 -\n",
      "127.0.0.1 - - [24/Jul/2023 22:41:15] \"GET /static/img/sad.jpg HTTP/1.1\" 304 -\n",
      "127.0.0.1 - - [24/Jul/2023 22:41:15] \"GET /static/img/happy.jpg HTTP/1.1\" 304 -\n",
      "127.0.0.1 - - [24/Jul/2023 22:41:15] \"GET /static/img/think.png HTTP/1.1\" 304 -\n",
      "127.0.0.1 - - [24/Jul/2023 22:41:15] \"GET /favicon.ico HTTP/1.1\" 404 -\n"
     ]
    },
    {
     "name": "stdout",
     "output_type": "stream",
     "text": [
      "happy\n"
     ]
    },
    {
     "name": "stderr",
     "output_type": "stream",
     "text": [
      "127.0.0.1 - - [24/Jul/2023 22:41:21] \"POST /predict HTTP/1.1\" 200 -\n",
      "127.0.0.1 - - [24/Jul/2023 22:41:21] \"GET /static/img/happy.jpg HTTP/1.1\" 304 -\n",
      "127.0.0.1 - - [24/Jul/2023 22:41:21] \"GET /static/img/sad.jpg HTTP/1.1\" 304 -\n",
      "127.0.0.1 - - [24/Jul/2023 22:41:21] \"GET /static/img/angry.jpg HTTP/1.1\" 304 -\n",
      "127.0.0.1 - - [24/Jul/2023 22:41:21] \"GET /static/img/disgust.png HTTP/1.1\" 304 -\n",
      "127.0.0.1 - - [24/Jul/2023 22:41:21] \"GET /images/1.jpg HTTP/1.1\" 404 -\n",
      "127.0.0.1 - - [24/Jul/2023 22:41:21] \"GET /static/img/think.png HTTP/1.1\" 304 -\n"
     ]
    },
    {
     "name": "stdout",
     "output_type": "stream",
     "text": [
      "sad\n"
     ]
    },
    {
     "name": "stderr",
     "output_type": "stream",
     "text": [
      "127.0.0.1 - - [24/Jul/2023 22:41:52] \"POST /predict HTTP/1.1\" 200 -\n",
      "127.0.0.1 - - [24/Jul/2023 22:41:52] \"GET /static/img/happy.jpg HTTP/1.1\" 304 -\n",
      "127.0.0.1 - - [24/Jul/2023 22:41:52] \"GET /static/img/sad.jpg HTTP/1.1\" 304 -\n",
      "127.0.0.1 - - [24/Jul/2023 22:41:52] \"GET /static/img/angry.jpg HTTP/1.1\" 304 -\n",
      "127.0.0.1 - - [24/Jul/2023 22:41:52] \"GET /static/img/disgust.png HTTP/1.1\" 304 -\n",
      "127.0.0.1 - - [24/Jul/2023 22:41:52] \"GET /static/img/think.png HTTP/1.1\" 304 -\n",
      "127.0.0.1 - - [24/Jul/2023 22:41:52] \"GET /images/1.jpg HTTP/1.1\" 404 -\n"
     ]
    },
    {
     "name": "stdout",
     "output_type": "stream",
     "text": [
      "angry\n"
     ]
    },
    {
     "name": "stderr",
     "output_type": "stream",
     "text": [
      "127.0.0.1 - - [24/Jul/2023 22:41:57] \"POST /predict HTTP/1.1\" 200 -\n",
      "127.0.0.1 - - [24/Jul/2023 22:41:57] \"GET /static/img/happy.jpg HTTP/1.1\" 304 -\n",
      "127.0.0.1 - - [24/Jul/2023 22:41:57] \"GET /images/1.jpg HTTP/1.1\" 404 -\n",
      "127.0.0.1 - - [24/Jul/2023 22:41:57] \"GET /static/img/sad.jpg HTTP/1.1\" 304 -\n",
      "127.0.0.1 - - [24/Jul/2023 22:41:57] \"GET /static/img/angry.jpg HTTP/1.1\" 304 -\n",
      "127.0.0.1 - - [24/Jul/2023 22:41:57] \"GET /static/img/disgust.png HTTP/1.1\" 304 -\n",
      "127.0.0.1 - - [24/Jul/2023 22:41:57] \"GET /static/img/think.png HTTP/1.1\" 304 -\n"
     ]
    },
    {
     "name": "stdout",
     "output_type": "stream",
     "text": [
      "disgust\n"
     ]
    },
    {
     "name": "stderr",
     "output_type": "stream",
     "text": [
      "127.0.0.1 - - [24/Jul/2023 22:42:03] \"POST /predict HTTP/1.1\" 200 -\n",
      "127.0.0.1 - - [24/Jul/2023 22:42:03] \"GET /static/img/happy.jpg HTTP/1.1\" 304 -\n",
      "127.0.0.1 - - [24/Jul/2023 22:42:03] \"GET /static/img/sad.jpg HTTP/1.1\" 304 -\n",
      "127.0.0.1 - - [24/Jul/2023 22:42:03] \"GET /static/img/angry.jpg HTTP/1.1\" 304 -\n",
      "127.0.0.1 - - [24/Jul/2023 22:42:03] \"GET /static/img/disgust.png HTTP/1.1\" 304 -\n",
      "127.0.0.1 - - [24/Jul/2023 22:42:03] \"GET /static/img/think.png HTTP/1.1\" 304 -\n",
      "127.0.0.1 - - [24/Jul/2023 22:42:03] \"GET /images/1.jpg HTTP/1.1\" 404 -\n"
     ]
    },
    {
     "name": "stdout",
     "output_type": "stream",
     "text": [
      "think\n"
     ]
    },
    {
     "name": "stderr",
     "output_type": "stream",
     "text": [
      "127.0.0.1 - - [24/Jul/2023 22:42:08] \"POST /predict HTTP/1.1\" 200 -\n",
      "127.0.0.1 - - [24/Jul/2023 22:42:08] \"GET /static/img/happy.jpg HTTP/1.1\" 304 -\n",
      "127.0.0.1 - - [24/Jul/2023 22:42:08] \"GET /static/img/sad.jpg HTTP/1.1\" 304 -\n",
      "127.0.0.1 - - [24/Jul/2023 22:42:08] \"GET /static/img/angry.jpg HTTP/1.1\" 304 -\n",
      "127.0.0.1 - - [24/Jul/2023 22:42:08] \"GET /static/img/disgust.png HTTP/1.1\" 304 -\n",
      "127.0.0.1 - - [24/Jul/2023 22:42:09] \"GET /static/img/think.png HTTP/1.1\" 304 -\n",
      "127.0.0.1 - - [24/Jul/2023 22:42:09] \"GET /images/1.jpg HTTP/1.1\" 404 -\n"
     ]
    }
   ],
   "source": [
    "from flask import Flask, render_template, request\n",
    "import requests\n",
    "from bs4 import BeautifulSoup\n",
    "\n",
    "app = Flask(__name__)\n",
    "\n",
    "@app.route('/', methods=['GET'])\n",
    "def index():\n",
    "    return render_template('home.html')\n",
    "\n",
    "@app.route('/home', methods=['GET'])\n",
    "def about():\n",
    "    return render_template('home.html')\n",
    "\n",
    "@app.route('/predict', methods=[\"GET\", \"POST\"])\n",
    "def predict():\n",
    "    if request.method == \"POST\":\n",
    "        emotion = request.form['emotion']\n",
    "        print(emotion)\n",
    "\n",
    "        urlhere = get_imdb_url_for_emotion(emotion)\n",
    "        movie_data = scrape_imdb_movies(urlhere)\n",
    "\n",
    "        return render_template('home.html', emotion=emotion, data=movie_data)\n",
    "\n",
    "    return render_template('home.html')\n",
    "\n",
    "def get_imdb_url_for_emotion(emotion):\n",
    "    # Define IMDb URLs for each emotion\n",
    "    urls = {\n",
    "        \"happy\": 'http://www.imdb.com/search/title?genres=drama&title_type=feature&sort=moviemeter,asc',\n",
    "        \"angry\": 'http://www.imdb.com/search/title?genres=thriller&title_type=feature&sort=moviemeter,asc',\n",
    "        \"disgust\": 'http://www.imdb.com/search/title?genres=sport&title_type=feature&sort=moviemeter,asc',\n",
    "        \"think\": 'http://www.imdb.com/search/title?genres=thriller&title_type=feature&sort=moviemeter,asc',\n",
    "        \"sad\": 'http://www.imdb.com/search/title?genres=western&title_type=feature&sort=moviemeter,asc'\n",
    "    }\n",
    "\n",
    "    return urls.get(emotion, urls[\"happy\"])  # Default to 'happy' if the emotion is not recognized\n",
    "\n",
    "def scrape_imdb_movies(url):\n",
    "    response = requests.get(url)\n",
    "    data = response.text\n",
    "    soup = BeautifulSoup(data, \"lxml\")\n",
    "    movie_list = []\n",
    "\n",
    "    supa = soup.find_all('h3', attrs={'class': 'lister-item-header'})\n",
    "\n",
    "    for header in supa:\n",
    "        name = \"\"\n",
    "        a_element_soup = header.find_all('a')\n",
    "        span_element_soup = header.find_all('span')\n",
    "        span_element = span_element_soup[0]\n",
    "        name = name + span_element.text\n",
    "        a_element = a_element_soup[0]\n",
    "        name = name + \" \" + a_element.text\n",
    "\n",
    "        movie_link = a_element['href']\n",
    "        movie_link = 'https://www.imdb.com' + movie_link\n",
    "\n",
    "        if len(span_element_soup) > 1:\n",
    "            span_element = span_element_soup[1]\n",
    "            name = name + \" \" + span_element.text\n",
    "\n",
    "        movie_list.append({'name': name, 'link': movie_link})\n",
    "\n",
    "    return movie_list\n",
    "\n",
    "if __name__ == \"__main__\":\n",
    "    app.run(debug=False)\n"
   ]
  }
 ],
 "metadata": {
  "kernelspec": {
   "display_name": "Python 3 (ipykernel)",
   "language": "python",
   "name": "python3"
  },
  "language_info": {
   "codemirror_mode": {
    "name": "ipython",
    "version": 3
   },
   "file_extension": ".py",
   "mimetype": "text/x-python",
   "name": "python",
   "nbconvert_exporter": "python",
   "pygments_lexer": "ipython3",
   "version": "3.10.11"
  }
 },
 "nbformat": 4,
 "nbformat_minor": 5
}
